{
 "cells": [
  {
   "cell_type": "code",
   "execution_count": 263,
   "id": "559964f7-373c-473b-96a5-942421d342c2",
   "metadata": {},
   "outputs": [],
   "source": [
    "import pandas as pd\n",
    "import numpy as np\n",
    "from scipy.stats import shapiro\n",
    "from scipy import stats\n",
    "import statsmodels.api as sm\n",
    "import matplotlib.pyplot as plt\n",
    "from scipy.stats import spearmanr\n",
    "import pingouin as pg\n",
    "import statsmodels.formula.api as smf"
   ]
  },
  {
   "cell_type": "markdown",
   "id": "6ec73518-0ecf-40fa-8821-231eefaad13a",
   "metadata": {},
   "source": [
    "# Import data"
   ]
  },
  {
   "cell_type": "code",
   "execution_count": 264,
   "id": "c2cbb5cf-a250-4a5c-8590-3b85943425ed",
   "metadata": {},
   "outputs": [],
   "source": [
    "GameScore = pd.read_csv('GameScore Participants - Blad1.csv', decimal=',')\n",
    "Demographics = pd.read_csv('MT Demographics_June 13, 2025_02.45.csv', decimal=',')\n",
    "GameStudy = pd.read_csv('MT Game Study_June 13, 2025_02.45.csv', decimal=',')"
   ]
  },
  {
   "cell_type": "markdown",
   "id": "77b54c26-ace2-4167-8e23-458811ea111c",
   "metadata": {},
   "source": [
    "# Clean data"
   ]
  },
  {
   "cell_type": "markdown",
   "id": "69fe3a8f-801e-4b59-82ee-dabba734c705",
   "metadata": {},
   "source": [
    "### Remove first two rows as they hold no participant data"
   ]
  },
  {
   "cell_type": "code",
   "execution_count": 265,
   "id": "6c013ec3-50ac-47cf-ba4b-7e21c94a5a99",
   "metadata": {},
   "outputs": [],
   "source": [
    "Demographics = Demographics.drop([0, 1, 46])\n",
    "GameStudy = GameStudy.drop([0, 1])"
   ]
  },
  {
   "cell_type": "markdown",
   "id": "463619a0-58de-477a-a63e-97516e42f9b2",
   "metadata": {},
   "source": [
    "### Change column types and data from object to the according type"
   ]
  },
  {
   "cell_type": "code",
   "execution_count": 266,
   "id": "5654351e-552b-4fe2-838d-872f8478a63f",
   "metadata": {},
   "outputs": [],
   "source": [
    "# Performance\n",
    "GameScore['Level'] = GameScore['Level'].astype(\"string\")\n",
    "GameScore['Code'] = pd.to_numeric(GameScore['Code'], errors='coerce')"
   ]
  },
  {
   "cell_type": "code",
   "execution_count": 267,
   "id": "d7200d10-61ff-4999-880e-cfdd15a65ec0",
   "metadata": {},
   "outputs": [],
   "source": [
    "# Change demographics column to correct column type\n",
    "Demographics['Q1'] = pd.to_numeric(Demographics['Q1'], errors='coerce')\n",
    "Demographics['Q2.1'] = pd.to_numeric(Demographics['Q2.1'], errors='coerce')\n",
    "Demographics['Q3.1'] = Demographics['Q3.1'].astype(\"string\")\n",
    "\n",
    "# Clean column names\n",
    "Demographics.columns = Demographics.columns.str.strip().str.replace('\\u202f', '', regex=True)\n",
    "\n",
    "# Define Likert scale mapping\n",
    "likert_map = {\n",
    "    'Not apply at all': 1,\n",
    "    'Rarely apply': 2,\n",
    "    'Partially apply': 3,\n",
    "    'Rather apply': 4,\n",
    "    'Fully apply': 5\n",
    "}\n",
    "\n",
    "question_cols = ['Q1.1', 'Q2', 'Q3', 'Q4', 'Q5', 'Q6', 'Q7', 'Q8', 'Q9', 'Q10',\n",
    "                 'Q11', 'Q12', 'Q13', 'Q14', 'Q15', 'Q16', 'Q17', 'Q18', 'Q19',\n",
    "                 'Q20', 'Q21', 'Q22', 'Q23']\n",
    "\n",
    "# Apply Likert scale\n",
    "for col in question_cols:\n",
    "    if col in Demographics.columns:\n",
    "        Demographics[col] = Demographics[col].map(likert_map)"
   ]
  },
  {
   "cell_type": "code",
   "execution_count": 268,
   "id": "0657a375-4f51-480e-9edb-8ffa2bf010c9",
   "metadata": {},
   "outputs": [],
   "source": [
    "# Game Study\n",
    "# Fill nan values as it was forgotten to put the question on mandatory. The slider started in the middle at 50\n",
    "GameStudy['Experience_1'] = GameStudy['Experience_1'].fillna(50)\n",
    "GameStudy['Experience_2'] = GameStudy['Experience_2'].fillna(50)\n",
    "GameStudy['Experience_3'] = GameStudy['Experience_3'].fillna(50)\n",
    "GameStudy['Experience_4'] = GameStudy['Experience_4'].fillna(50)\n",
    "GameStudy['Experience_5'] = GameStudy['Experience_5'].fillna(50)\n",
    "\n",
    "# Change column types\n",
    "GameStudy['Experience_1'] = pd.to_numeric(GameStudy['Experience_1'], errors='coerce')\n",
    "GameStudy['Experience_2'] = pd.to_numeric(GameStudy['Experience_2'], errors='coerce')\n",
    "GameStudy['Experience_3'] = pd.to_numeric(GameStudy['Experience_3'], errors='coerce')\n",
    "GameStudy['Experience_4'] = pd.to_numeric(GameStudy['Experience_4'], errors='coerce')\n",
    "GameStudy['Experience_5'] = pd.to_numeric(GameStudy['Experience_5'], errors='coerce')\n",
    "GameStudy['Q1'] = GameStudy['Q1'].astype(\"string\")\n",
    "\n",
    "GameStudy['Participation Code'] = GameStudy['Participation Code'].astype(str).str.strip()\n",
    "GameStudy['Participation Code'] = pd.to_numeric(GameStudy['Participation Code'], errors='coerce')"
   ]
  },
  {
   "cell_type": "markdown",
   "id": "3fd70c15-a975-4230-a9ca-20a0b3f16648",
   "metadata": {},
   "source": [
    "### Remove data of participants that is not usable for the analysis"
   ]
  },
  {
   "cell_type": "code",
   "execution_count": 269,
   "id": "b0b772b9-5e04-48f4-ad30-8177215fa7c0",
   "metadata": {},
   "outputs": [],
   "source": [
    "# Performance\n",
    "participants_to_remove = [0, 6, 18, 20, 23, 42]\n",
    "GameScore = GameScore.drop(index=GameScore[GameScore['Code'].isin(participants_to_remove)].index)\n",
    "GameScore = GameScore.reset_index(drop=True)"
   ]
  },
  {
   "cell_type": "code",
   "execution_count": 270,
   "id": "86e69f39-34b9-4790-a47c-8ba3aa9489d6",
   "metadata": {},
   "outputs": [],
   "source": [
    "# Demographics\n",
    "participants_to_remove = [0, 6, 18, 20, 23, 42]\n",
    "Demographics = Demographics.drop(index=Demographics[Demographics['Q1'].isin(participants_to_remove)].index)\n",
    "Demographics = Demographics.reset_index(drop=True)"
   ]
  },
  {
   "cell_type": "code",
   "execution_count": 271,
   "id": "058ca1a3-bcff-480f-be6e-bd128533f92a",
   "metadata": {},
   "outputs": [],
   "source": [
    "# Game Study\n",
    "participants_to_remove = [0, 6, 18, 20, 23, 42]\n",
    "GameStudy = GameStudy.drop(index=GameStudy[GameStudy['Participation Code'].isin(participants_to_remove)].index)\n",
    "GameStudy = GameStudy.reset_index(drop=True)"
   ]
  },
  {
   "cell_type": "code",
   "execution_count": 272,
   "id": "b4288e4e-944c-420d-8842-673457d8ec78",
   "metadata": {},
   "outputs": [],
   "source": [
    "GameScore = GameScore[GameScore['Level'] != 'Denver'].reset_index(drop=True)\n",
    "GameStudy = GameStudy[GameStudy['Q1'] != 'Denver'].reset_index(drop=True)"
   ]
  },
  {
   "cell_type": "markdown",
   "id": "a0eb9c8e-d725-4f57-81d5-86a65cd8fa2b",
   "metadata": {},
   "source": [
    "### Split levels in different levels"
   ]
  },
  {
   "cell_type": "code",
   "execution_count": 273,
   "id": "bc3a88c4-6645-44d2-878d-aae44e0cc90c",
   "metadata": {},
   "outputs": [],
   "source": [
    "# Split Performance Levels\n",
    "PMinneapolis = GameScore[GameScore['Level'] == 'Minneapolis']\n",
    "PChicago = GameScore[GameScore['Level'] == 'Chicago']\n",
    "\n",
    "# Split the different sp-hhq factors\n",
    "Demographics['F1_annoyance'] = Demographics[['Q1.1', 'Q2', 'Q3', 'Q4', 'Q5', 'Q6', 'Q7', 'Q8']].mean(axis=1)\n",
    "Demographics['F2_quality'] = Demographics[['Q9', 'Q10']].mean(axis=1)\n",
    "Demographics['F3_noise_sensitivity'] = Demographics[['Q11', 'Q12', 'Q13']].mean(axis=1)\n",
    "Demographics['F4_unpredictable'] = Demographics[['Q14', 'Q15', 'Q16']].mean(axis=1)\n",
    "Demographics['F5_openness'] = Demographics[['Q17', 'Q18', 'Q19']].mean(axis=1)\n",
    "Demographics['F6_warm'] = Demographics[['Q20', 'Q21']].mean(axis=1)\n",
    "Demographics['F7_detail'] = Demographics[['Q22', 'Q23']].mean(axis=1)\n",
    "\n",
    "Demographics['SPHHQ_Total'] = Demographics[[\n",
    "    'F1_annoyance', 'F2_quality', 'F3_noise_sensitivity',\n",
    "    'F4_unpredictable', 'F5_openness', 'F6_warm', 'F7_detail'\n",
    "]].mean(axis=1)\n",
    "\n",
    "# Mean of the NASA TLX per participant\n",
    "GameStudy['Total'] = (GameStudy['Experience_1'] + GameStudy['Experience_2'] + GameStudy['Experience_3'] + GameStudy['Experience_4'] + GameStudy['Experience_5']) / 5\n",
    "\n",
    "# Split Game Study Levels\n",
    "CWMinneapolis = GameStudy[GameStudy['Q1'] == 'Minneapolis']\n",
    "CWChicago = GameStudy[GameStudy['Q1'] == 'Chicago']"
   ]
  },
  {
   "cell_type": "markdown",
   "id": "929ce0c4-3588-4dca-afa1-84d0a9eba42b",
   "metadata": {},
   "source": [
    "### Check for normality"
   ]
  },
  {
   "cell_type": "code",
   "execution_count": 274,
   "id": "f51de84f-fd96-4a96-97c4-b993f68a4bbd",
   "metadata": {},
   "outputs": [
    {
     "name": "stdout",
     "output_type": "stream",
     "text": [
      "Performance Minneapolis:  ShapiroResult(statistic=0.8494054079055786, pvalue=0.00010472451685927808)\n",
      "Performance Chicago:  ShapiroResult(statistic=0.9491802453994751, pvalue=0.07711198925971985)\n",
      "Cognitive Workload Minneapolis:  ShapiroResult(statistic=0.9848799705505371, pvalue=0.8691685199737549)\n",
      "Cognitive Workload Chicago:  ShapiroResult(statistic=0.9809184074401855, pvalue=0.7367984056472778)\n"
     ]
    }
   ],
   "source": [
    "print('Performance Minneapolis: ', shapiro(PMinneapolis['CorrrectMoves']))\n",
    "print('Performance Chicago: ', shapiro(PChicago['CorrrectMoves']))\n",
    "\n",
    "print('Cognitive Workload Minneapolis: ',shapiro(CWMinneapolis['Total']))\n",
    "print('Cognitive Workload Chicago: ',shapiro(CWChicago['Total']))"
   ]
  },
  {
   "cell_type": "code",
   "execution_count": 275,
   "id": "d8afbb15-f99f-499e-b4b9-25453eb38286",
   "metadata": {},
   "outputs": [
    {
     "name": "stdout",
     "output_type": "stream",
     "text": [
      "SP-HHQ:  ShapiroResult(statistic=0.9228880405426025, pvalue=0.01069800928235054)\n"
     ]
    }
   ],
   "source": [
    "print('SP-HHQ: ',shapiro(Demographics['SPHHQ_Total']))"
   ]
  },
  {
   "cell_type": "code",
   "execution_count": 276,
   "id": "dc736b84-e69b-498a-a8c6-a0dfd588f1ba",
   "metadata": {},
   "outputs": [
    {
     "name": "stdout",
     "output_type": "stream",
     "text": [
      "Experience_1 (Minneapolis): W=0.9367, p=0.0296\n",
      "Experience_1 (Chicago): W=0.9534, p=0.1067\n",
      "Experience_2 (Minneapolis): W=0.9163, p=0.0067\n",
      "Experience_2 (Chicago): W=0.9764, p=0.5726\n",
      "Experience_3 (Minneapolis): W=0.9772, p=0.6029\n",
      "Experience_3 (Chicago): W=0.9534, p=0.1070\n",
      "Experience_4 (Minneapolis): W=0.9484, p=0.0727\n",
      "Experience_4 (Chicago): W=0.9435, p=0.0497\n",
      "Experience_5 (Minneapolis): W=0.9580, p=0.1525\n",
      "Experience_5 (Chicago): W=0.9773, p=0.6072\n"
     ]
    }
   ],
   "source": [
    "# subanalysis H1\n",
    "subscales = ['Experience_1', 'Experience_2', 'Experience_3', 'Experience_4', 'Experience_5']\n",
    "for scale in subscales:\n",
    "    stat, p = stats.shapiro(CWMinneapolis[scale])\n",
    "    print(f\"{scale} (Minneapolis): W={stat:.4f}, p={p:.4f}\")\n",
    "\n",
    "    stat, p = stats.shapiro(CWChicago[scale])\n",
    "    print(f\"{scale} (Chicago): W={stat:.4f}, p={p:.4f}\")"
   ]
  },
  {
   "cell_type": "code",
   "execution_count": 277,
   "id": "c9424e2e-2cf5-46f4-83c8-10628cc26265",
   "metadata": {},
   "outputs": [
    {
     "name": "stdout",
     "output_type": "stream",
     "text": [
      "\n",
      "Shapiro-Wilk test results for Minneapolis condition:\n",
      "F1_annoyance: W = 0.984, p = 0.425\n",
      "F3_noise_sensitivity: W = 0.965, p = 0.032\n",
      "F4_unpredictable: W = 0.951, p = 0.005\n",
      "F5_openness: W = 0.936, p = 0.001\n",
      "F7_detail: W = 0.949, p = 0.004\n",
      "\n",
      "Shapiro-Wilk test results for Chicago condition:\n",
      "F1_annoyance: W = 0.984, p = 0.425\n",
      "F3_noise_sensitivity: W = 0.965, p = 0.032\n",
      "F4_unpredictable: W = 0.951, p = 0.005\n",
      "F5_openness: W = 0.936, p = 0.001\n",
      "F7_detail: W = 0.949, p = 0.004\n"
     ]
    }
   ],
   "source": [
    "# Define SP-HHQ subscales that are used in the analysis\n",
    "sphhq_subscales = [\n",
    "    'F1_annoyance', 'F3_noise_sensitivity',\n",
    "    'F4_unpredictable', 'F5_openness', 'F7_detail'\n",
    "]\n",
    "\n",
    "# Loop through conditions\n",
    "for condition in ['Minneapolis', 'Chicago']:\n",
    "    print(f'\\nShapiro-Wilk test results for {condition} condition:')\n",
    "    condition_df = df[df['Level'] == condition]\n",
    "    \n",
    "    for subscale in sphhq_subscales:\n",
    "        stat, p = shapiro(condition_df[subscale])\n",
    "        print(f'{subscale}: W = {stat:.3f}, p = {p:.3f}')\n"
   ]
  },
  {
   "cell_type": "markdown",
   "id": "e1dcd5f3-5086-4925-973d-353af3a8ac10",
   "metadata": {},
   "source": [
    "### Descriptives"
   ]
  },
  {
   "cell_type": "code",
   "execution_count": 278,
   "id": "e84f7c22-7bb4-4d42-8159-0069d177a753",
   "metadata": {},
   "outputs": [
    {
     "data": {
      "text/plain": [
       "count    39.000000\n",
       "mean     31.205128\n",
       "std      15.096496\n",
       "min      18.000000\n",
       "25%      22.000000\n",
       "50%      24.000000\n",
       "75%      36.000000\n",
       "max      72.000000\n",
       "Name: Q2.1, dtype: float64"
      ]
     },
     "execution_count": 278,
     "metadata": {},
     "output_type": "execute_result"
    }
   ],
   "source": [
    "Demographics['Q2.1'].describe()"
   ]
  },
  {
   "cell_type": "code",
   "execution_count": 279,
   "id": "13331dce-62fe-4788-90d7-aba369482332",
   "metadata": {},
   "outputs": [
    {
     "data": {
      "text/plain": [
       "Q3.1\n",
       "Male      20\n",
       "Female    19\n",
       "Name: count, dtype: Int64"
      ]
     },
     "execution_count": 279,
     "metadata": {},
     "output_type": "execute_result"
    }
   ],
   "source": [
    "Demographics['Q3.1'].value_counts()"
   ]
  },
  {
   "cell_type": "code",
   "execution_count": 280,
   "id": "acb0f3c7-eac0-4dbd-9c58-9ea17e8123e6",
   "metadata": {},
   "outputs": [
    {
     "data": {
      "text/html": [
       "<div>\n",
       "<style scoped>\n",
       "    .dataframe tbody tr th:only-of-type {\n",
       "        vertical-align: middle;\n",
       "    }\n",
       "\n",
       "    .dataframe tbody tr th {\n",
       "        vertical-align: top;\n",
       "    }\n",
       "\n",
       "    .dataframe thead tr th {\n",
       "        text-align: left;\n",
       "    }\n",
       "\n",
       "    .dataframe thead tr:last-of-type th {\n",
       "        text-align: right;\n",
       "    }\n",
       "</style>\n",
       "<table border=\"1\" class=\"dataframe\">\n",
       "  <thead>\n",
       "    <tr>\n",
       "      <th></th>\n",
       "      <th colspan=\"8\" halign=\"left\">Experience_1</th>\n",
       "      <th colspan=\"2\" halign=\"left\">Experience_2</th>\n",
       "      <th>...</th>\n",
       "      <th colspan=\"2\" halign=\"left\">Experience_4</th>\n",
       "      <th colspan=\"8\" halign=\"left\">Experience_5</th>\n",
       "    </tr>\n",
       "    <tr>\n",
       "      <th></th>\n",
       "      <th>count</th>\n",
       "      <th>mean</th>\n",
       "      <th>std</th>\n",
       "      <th>min</th>\n",
       "      <th>25%</th>\n",
       "      <th>50%</th>\n",
       "      <th>75%</th>\n",
       "      <th>max</th>\n",
       "      <th>count</th>\n",
       "      <th>mean</th>\n",
       "      <th>...</th>\n",
       "      <th>75%</th>\n",
       "      <th>max</th>\n",
       "      <th>count</th>\n",
       "      <th>mean</th>\n",
       "      <th>std</th>\n",
       "      <th>min</th>\n",
       "      <th>25%</th>\n",
       "      <th>50%</th>\n",
       "      <th>75%</th>\n",
       "      <th>max</th>\n",
       "    </tr>\n",
       "    <tr>\n",
       "      <th>Q1</th>\n",
       "      <th></th>\n",
       "      <th></th>\n",
       "      <th></th>\n",
       "      <th></th>\n",
       "      <th></th>\n",
       "      <th></th>\n",
       "      <th></th>\n",
       "      <th></th>\n",
       "      <th></th>\n",
       "      <th></th>\n",
       "      <th></th>\n",
       "      <th></th>\n",
       "      <th></th>\n",
       "      <th></th>\n",
       "      <th></th>\n",
       "      <th></th>\n",
       "      <th></th>\n",
       "      <th></th>\n",
       "      <th></th>\n",
       "      <th></th>\n",
       "      <th></th>\n",
       "    </tr>\n",
       "  </thead>\n",
       "  <tbody>\n",
       "    <tr>\n",
       "      <th>Chicago</th>\n",
       "      <td>39.0</td>\n",
       "      <td>55.512821</td>\n",
       "      <td>20.862800</td>\n",
       "      <td>10.0</td>\n",
       "      <td>40.0</td>\n",
       "      <td>60.0</td>\n",
       "      <td>70.0</td>\n",
       "      <td>90.0</td>\n",
       "      <td>39.0</td>\n",
       "      <td>56.794872</td>\n",
       "      <td>...</td>\n",
       "      <td>72.5</td>\n",
       "      <td>90.0</td>\n",
       "      <td>39.0</td>\n",
       "      <td>56.923077</td>\n",
       "      <td>24.132730</td>\n",
       "      <td>0.0</td>\n",
       "      <td>40.0</td>\n",
       "      <td>60.0</td>\n",
       "      <td>75.0</td>\n",
       "      <td>100.0</td>\n",
       "    </tr>\n",
       "    <tr>\n",
       "      <th>Minneapolis</th>\n",
       "      <td>39.0</td>\n",
       "      <td>52.564103</td>\n",
       "      <td>18.878831</td>\n",
       "      <td>10.0</td>\n",
       "      <td>40.0</td>\n",
       "      <td>60.0</td>\n",
       "      <td>65.0</td>\n",
       "      <td>85.0</td>\n",
       "      <td>39.0</td>\n",
       "      <td>51.410256</td>\n",
       "      <td>...</td>\n",
       "      <td>70.0</td>\n",
       "      <td>95.0</td>\n",
       "      <td>39.0</td>\n",
       "      <td>48.076923</td>\n",
       "      <td>26.695539</td>\n",
       "      <td>0.0</td>\n",
       "      <td>27.5</td>\n",
       "      <td>55.0</td>\n",
       "      <td>70.0</td>\n",
       "      <td>100.0</td>\n",
       "    </tr>\n",
       "  </tbody>\n",
       "</table>\n",
       "<p>2 rows × 40 columns</p>\n",
       "</div>"
      ],
      "text/plain": [
       "            Experience_1                                                      \\\n",
       "                   count       mean        std   min   25%   50%   75%   max   \n",
       "Q1                                                                             \n",
       "Chicago             39.0  55.512821  20.862800  10.0  40.0  60.0  70.0  90.0   \n",
       "Minneapolis         39.0  52.564103  18.878831  10.0  40.0  60.0  65.0  85.0   \n",
       "\n",
       "            Experience_2             ... Experience_4       Experience_5  \\\n",
       "                   count       mean  ...          75%   max        count   \n",
       "Q1                                   ...                                   \n",
       "Chicago             39.0  56.794872  ...         72.5  90.0         39.0   \n",
       "Minneapolis         39.0  51.410256  ...         70.0  95.0         39.0   \n",
       "\n",
       "                                                                 \n",
       "                  mean        std  min   25%   50%   75%    max  \n",
       "Q1                                                               \n",
       "Chicago      56.923077  24.132730  0.0  40.0  60.0  75.0  100.0  \n",
       "Minneapolis  48.076923  26.695539  0.0  27.5  55.0  70.0  100.0  \n",
       "\n",
       "[2 rows x 40 columns]"
      ]
     },
     "execution_count": 280,
     "metadata": {},
     "output_type": "execute_result"
    }
   ],
   "source": [
    "# List of NASA TLX subscale columns\n",
    "nasa_subscales = ['Experience_1', 'Experience_2', 'Experience_3', \n",
    "                  'Experience_4', 'Experience_5']\n",
    "\n",
    "# Group by condition and describe each subscale\n",
    "descriptives = GameStudy.groupby('Q1')[nasa_subscales].describe()\n",
    "descriptives"
   ]
  },
  {
   "cell_type": "markdown",
   "id": "401141f8-ac73-4ef1-8e99-931efde3d81d",
   "metadata": {},
   "source": [
    "# Data Analysis"
   ]
  },
  {
   "cell_type": "markdown",
   "id": "da796d20-f179-4568-96c0-796c0a1b1a13",
   "metadata": {},
   "source": [
    "#### H1: On-beat music leads to lower cognitive workload and higher task performance than off-beat music."
   ]
  },
  {
   "cell_type": "code",
   "execution_count": 281,
   "id": "c5e08806-d348-4d6e-b509-109010714eba",
   "metadata": {},
   "outputs": [
    {
     "name": "stdout",
     "output_type": "stream",
     "text": [
      "Cognitive workload;  WilcoxonResult(statistic=230.0, pvalue=0.1054120574709588)\n",
      "Performance:  WilcoxonResult(statistic=277.0, pvalue=0.1172088714374695)\n"
     ]
    },
    {
     "name": "stderr",
     "output_type": "stream",
     "text": [
      "/Users/mijketaal/opt/anaconda3/lib/python3.9/site-packages/scipy/stats/_morestats.py:4088: UserWarning: Exact p-value calculation does not work if there are zeros. Switching to normal approximation.\n",
      "  warnings.warn(\"Exact p-value calculation does not work if there are \"\n"
     ]
    }
   ],
   "source": [
    "print('Cognitive workload; ', stats.wilcoxon(CWMinneapolis['Total'], CWChicago['Total']))\n",
    "print('Performance: ', stats.wilcoxon(PMinneapolis['CorrrectMoves'], PChicago['CorrrectMoves']))"
   ]
  },
  {
   "cell_type": "code",
   "execution_count": 282,
   "id": "adf461ed-4a87-4413-8616-99eac4bf9798",
   "metadata": {
    "scrolled": true
   },
   "outputs": [
    {
     "name": "stdout",
     "output_type": "stream",
     "text": [
      "Experience_1: W=326.5, p=0.705\n",
      "Experience_2: W=224.5, p=0.136\n",
      "Experience_3: W=198.5, p=0.142\n",
      "Experience_4: W=273.0, p=0.490\n",
      "Experience_5: W=143.0, p=0.008\n"
     ]
    }
   ],
   "source": [
    "subscales = ['Experience_1', 'Experience_2', 'Experience_3', 'Experience_4', 'Experience_5']\n",
    "for scale in subscales:\n",
    "    stat, p = stats.wilcoxon(CWMinneapolis[scale], CWChicago[scale])\n",
    "    print(f\"{scale}: W={stat}, p={p:.3f}\")"
   ]
  },
  {
   "cell_type": "code",
   "execution_count": 283,
   "id": "f2cce4d5-9882-4249-9c30-7ad9a94951ee",
   "metadata": {},
   "outputs": [
    {
     "name": "stdout",
     "output_type": "stream",
     "text": [
      "Mean frustration (on-beat): 48.07692307692308\n",
      "Mean frustration (off-beat): 56.92307692307692\n"
     ]
    }
   ],
   "source": [
    "print(\"Mean frustration (on-beat):\", CWMinneapolis['Experience_5'].mean())\n",
    "print(\"Mean frustration (off-beat):\", CWChicago['Experience_5'].mean())"
   ]
  },
  {
   "cell_type": "markdown",
   "id": "eb074679-78ce-424d-b536-5f23add5517e",
   "metadata": {},
   "source": [
    "#### H3: Players with higher audio susceptibility exhibit greater performance improvements and lower cognitive workload when playing with rhythmic music."
   ]
  },
  {
   "cell_type": "code",
   "execution_count": 284,
   "id": "d28478b5-abd8-47cd-bc1b-55a008afdf4c",
   "metadata": {},
   "outputs": [],
   "source": [
    "# Merge GameScore and GameStudy on participant code\n",
    "merged_scores_study = GameScore.merge(\n",
    "    GameStudy,\n",
    "    left_on='Code',\n",
    "    right_on='Participation Code',\n",
    "    how='inner'\n",
    ")\n",
    "\n",
    "# Merge the result with Demographics\n",
    "full_merged = merged_scores_study.merge(\n",
    "    Demographics,\n",
    "    left_on='Code',\n",
    "    right_on='Q1',\n",
    "    how='inner'\n",
    ")"
   ]
  },
  {
   "cell_type": "code",
   "execution_count": 285,
   "id": "21cfed9f-bb43-4868-b315-5885d1f00a26",
   "metadata": {},
   "outputs": [],
   "source": [
    "# Average performance and workload per participant across conditions\n",
    "aggregated = full_merged.groupby('Code').agg({\n",
    "    'CorrrectMoves': 'mean',\n",
    "    'Total': 'mean',\n",
    "    'SPHHQ_Total': 'first'\n",
    "}).reset_index()"
   ]
  },
  {
   "cell_type": "code",
   "execution_count": 286,
   "id": "da2d24d1-2f5e-448c-8319-51b8f3807e96",
   "metadata": {},
   "outputs": [
    {
     "name": "stdout",
     "output_type": "stream",
     "text": [
      "SPHHQ vs Performance: r = -0.22, p = 0.1754\n",
      "SPHHQ vs Cognitive Load: r = 0.29, p = 0.0728\n"
     ]
    }
   ],
   "source": [
    "# Correlation: SPHHQ vs Performance\n",
    "perf_corr, perf_p = spearmanr(aggregated['SPHHQ_Total'], aggregated['CorrrectMoves'])\n",
    "print(f\"SPHHQ vs Performance: r = {perf_corr:.2f}, p = {perf_p:.4f}\")\n",
    "\n",
    "# Correlation: SPHHQ vs Cognitive Load\n",
    "load_corr, load_p = spearmanr(aggregated['SPHHQ_Total'], aggregated['Total'])\n",
    "print(f\"SPHHQ vs Cognitive Load: r = {load_corr:.2f}, p = {load_p:.4f}\")"
   ]
  },
  {
   "cell_type": "code",
   "execution_count": 287,
   "id": "89b3bc89-cd2c-4123-bcca-41980f7647c8",
   "metadata": {},
   "outputs": [
    {
     "name": "stdout",
     "output_type": "stream",
     "text": [
      "SPPHW vs Performance (on beat):  SignificanceResult(statistic=-0.013261793953358908, pvalue=0.9082556554910253)\n",
      "SPPHW vs Performance (off beat):  SignificanceResult(statistic=-0.18132118660102411, pvalue=0.11212119653867315)\n",
      "SPPHW vs CL (on beat) SignificanceResult(statistic=0.29301519630091427, pvalue=0.009228498116820501)\n",
      "SPPHW vs CL (off beat) SignificanceResult(statistic=0.29301519630091427, pvalue=0.009228498116820501)\n"
     ]
    }
   ],
   "source": [
    "# Filter for on-beat (Minneapolis) and off-beat (Chicago) conditions\n",
    "on_beat = full_merged[full_merged['Level'] == 'Minneapolis']\n",
    "off_beat = full_merged[full_merged['Level'] == 'Chicago']\n",
    "\n",
    "# SPHHQ vs Performance (CorrectMoves)\n",
    "print(\"SPPHW vs Performance (on beat): \",spearmanr(on_beat['SPHHQ_Total'], on_beat['CorrrectMoves']))\n",
    "print(\"SPPHW vs Performance (off beat): \",spearmanr(off_beat['SPHHQ_Total'], off_beat['CorrrectMoves']))\n",
    "# SPHHQ vs Cognitive Load (Total)\n",
    "print(\"SPPHW vs CL (on beat)\", spearmanr(on_beat['SPHHQ_Total'], on_beat['Total']))\n",
    "print(\"SPPHW vs CL (off beat)\", spearmanr(off_beat['SPHHQ_Total'], off_beat['Total']))"
   ]
  },
  {
   "cell_type": "code",
   "execution_count": 288,
   "id": "572e6423-ce74-4f82-bb4d-ecc5c97c1f56",
   "metadata": {},
   "outputs": [
    {
     "name": "stdout",
     "output_type": "stream",
     "text": [
      "                            OLS Regression Results                            \n",
      "==============================================================================\n",
      "Dep. Variable:                  Total   R-squared:                       0.093\n",
      "Model:                            OLS   Adj. R-squared:                  0.075\n",
      "Method:                 Least Squares   F-statistic:                     5.184\n",
      "Date:                Tue, 01 Jul 2025   Prob (F-statistic):            0.00195\n",
      "Time:                        23:21:59   Log-Likelihood:                -614.28\n",
      "No. Observations:                 156   AIC:                             1237.\n",
      "Df Residuals:                     152   BIC:                             1249.\n",
      "Df Model:                           3                                         \n",
      "Covariance Type:            nonrobust                                         \n",
      "====================================================================================================\n",
      "                                       coef    std err          t      P>|t|      [0.025      0.975]\n",
      "----------------------------------------------------------------------------------------------------\n",
      "Intercept                           31.1152      8.026      3.877      0.000      15.258      46.973\n",
      "Level[T.Minneapolis]             -1.776e-14     11.351  -1.56e-15      1.000     -22.426      22.426\n",
      "SPHHQ_Total                          7.1041      2.548      2.788      0.006       2.071      12.138\n",
      "SPHHQ_Total:Level[T.Minneapolis]  2.887e-15      3.603   8.01e-16      1.000      -7.118       7.118\n",
      "==============================================================================\n",
      "Omnibus:                        0.576   Durbin-Watson:                   0.981\n",
      "Prob(Omnibus):                  0.750   Jarque-Bera (JB):                0.682\n",
      "Skew:                           0.135   Prob(JB):                        0.711\n",
      "Kurtosis:                       2.820   Cond. No.                         51.0\n",
      "==============================================================================\n",
      "\n",
      "Notes:\n",
      "[1] Standard Errors assume that the covariance matrix of the errors is correctly specified.\n"
     ]
    }
   ],
   "source": [
    "data = full_merged.dropna(subset=['Total','SPHHQ_Total','Level']).copy()\n",
    "\n",
    "data['Level'] = data['Level'].astype('category')               \n",
    "data['SPHHQ_Total'] = pd.to_numeric(data['SPHHQ_Total'])      \n",
    "data['Total']       = pd.to_numeric(data['Total'])\n",
    "\n",
    "model = smf.ols('Total ~ SPHHQ_Total * Level', data=data).fit()\n",
    "print(model.summary())\n"
   ]
  },
  {
   "cell_type": "code",
   "execution_count": 289,
   "id": "5660b4ef-bc2b-4999-a766-f4282ba91d24",
   "metadata": {},
   "outputs": [
    {
     "name": "stdout",
     "output_type": "stream",
     "text": [
      "\n",
      "Minneapolis condition:\n",
      "F1_annoyance vs Cognitive Workload: r = 0.13, p = 0.253\n",
      "F1_annoyance vs Performance:       r = -0.00, p = 0.982\n",
      "F3_noise_sensitivity vs Cognitive Workload: r = 0.05, p = 0.688\n",
      "F3_noise_sensitivity vs Performance:       r = -0.17, p = 0.147\n",
      "F4_unpredictable vs Cognitive Workload: r = 0.11, p = 0.355\n",
      "F4_unpredictable vs Performance:       r = 0.11, p = 0.338\n",
      "F5_openness vs Cognitive Workload: r = 0.29, p = 0.010\n",
      "F5_openness vs Performance:       r = 0.19, p = 0.089\n",
      "F7_detail vs Cognitive Workload: r = 0.22, p = 0.050\n",
      "F7_detail vs Performance:       r = 0.03, p = 0.780\n",
      "\n",
      "Chicago condition:\n",
      "F1_annoyance vs Cognitive Workload: r = 0.13, p = 0.253\n",
      "F1_annoyance vs Performance:       r = 0.14, p = 0.212\n",
      "F3_noise_sensitivity vs Cognitive Workload: r = 0.05, p = 0.688\n",
      "F3_noise_sensitivity vs Performance:       r = 0.14, p = 0.223\n",
      "F4_unpredictable vs Cognitive Workload: r = 0.11, p = 0.355\n",
      "F4_unpredictable vs Performance:       r = -0.12, p = 0.306\n",
      "F5_openness vs Cognitive Workload: r = 0.29, p = 0.010\n",
      "F5_openness vs Performance:       r = -0.29, p = 0.011\n",
      "F7_detail vs Cognitive Workload: r = 0.22, p = 0.050\n",
      "F7_detail vs Performance:       r = -0.05, p = 0.645\n"
     ]
    }
   ],
   "source": [
    "# Replace with your actual dataframe name\n",
    "df = full_merged  # or whatever your merged dataframe is called\n",
    "\n",
    "# Define your subscale column names (update if your column names are different)\n",
    "sphhq_subscales = ['F1_annoyance', 'F3_noise_sensitivity',\n",
    "    'F4_unpredictable', 'F5_openness', 'F7_detail']\n",
    "\n",
    "# Loop through conditions\n",
    "for condition in ['Minneapolis', 'Chicago']:\n",
    "    print(f'\\n{condition} condition:')\n",
    "    condition_df = df[df['Level'] == condition]\n",
    "    \n",
    "    for subscale in sphhq_subscales:\n",
    "        # Correlate with cognitive workload (NASA TLX total)\n",
    "        r_cw, p_cw = spearmanr(condition_df[subscale], condition_df['Total'])\n",
    "        # Correlate with performance\n",
    "        r_perf, p_perf = spearmanr(condition_df[subscale], condition_df['CorrrectMoves'])\n",
    "\n",
    "        print(f'{subscale} vs Cognitive Workload: r = {r_cw:.2f}, p = {p_cw:.3f}')\n",
    "        print(f'{subscale} vs Performance:       r = {r_perf:.2f}, p = {p_perf:.3f}')"
   ]
  },
  {
   "cell_type": "markdown",
   "id": "71d135e8-3bbf-484c-a216-c0472278e186",
   "metadata": {},
   "source": [
    "## Exploratory Analysis"
   ]
  },
  {
   "cell_type": "code",
   "execution_count": 290,
   "id": "d0fc6b9c-86bf-4cdd-8c45-3294ec7bf52b",
   "metadata": {},
   "outputs": [],
   "source": [
    "# Define mapping\n",
    "mapping = {\n",
    "    \"Strongly disagree\": 1,\n",
    "    \"Somewhat disagree\": 2,\n",
    "    \"Neither agree nor disagree\": 3,\n",
    "    \"Somewhat agree\": 4,\n",
    "    \"Strongly agree\": 5\n",
    "}\n",
    "\n",
    "Demographics[\"Q5.1\"] = Demographics[\"Q5.1\"].map(mapping)"
   ]
  },
  {
   "cell_type": "code",
   "execution_count": 291,
   "id": "9d0b4b5e-e0ef-4781-9579-9455fabd2bb7",
   "metadata": {},
   "outputs": [],
   "source": [
    "# Define mapping\n",
    "mapping = {\n",
    "    \"Very poor\": 1,\n",
    "    \"Poor\": 2,\n",
    "    \"Average\": 3,\n",
    "    \"Good\": 4,\n",
    "    \"Very Good\": 5\n",
    "}\n",
    "\n",
    "Demographics[\"Q6.1\"] = Demographics[\"Q6.1\"].map(mapping)\n",
    "\n",
    "# Demographics['Q6.1']"
   ]
  },
  {
   "cell_type": "code",
   "execution_count": 292,
   "id": "d9ad73ca-a730-4ed1-9d69-7eac5a72bd43",
   "metadata": {},
   "outputs": [],
   "source": [
    "# Define mapping\n",
    "mapping = {\n",
    "    \"Never\": 1,\n",
    "    \"Rarely\": 2,\n",
    "    \"Sometimes\": 3,\n",
    "    \"Often\": 4,\n",
    "    \"Always\": 5\n",
    "}\n",
    "\n",
    "Demographics[\"Q7.1\"] = Demographics[\"Q7.1\"].map(mapping)"
   ]
  },
  {
   "cell_type": "markdown",
   "id": "a0b240a3-5946-45c1-b07b-0a1d04c827a6",
   "metadata": {},
   "source": [
    "### Check normality"
   ]
  },
  {
   "cell_type": "code",
   "execution_count": 293,
   "id": "72ab9f7c-3149-4535-bd16-47a5ccb5b9f9",
   "metadata": {},
   "outputs": [
    {
     "name": "stdout",
     "output_type": "stream",
     "text": [
      "Q5.1 ShapiroResult(statistic=0.8248322606086731, pvalue=2.8494516300270334e-05)\n",
      "Q6.1 ShapiroResult(statistic=0.9021820425987244, pvalue=0.0025496180169284344)\n",
      "Q6.1 ShapiroResult(statistic=0.88898766040802, pvalue=0.0010826460784301162)\n"
     ]
    }
   ],
   "source": [
    "print('Q5.1', shapiro(Demographics['Q5.1']))\n",
    "print('Q6.1', shapiro(Demographics['Q6.1']))\n",
    "print('Q6.1', shapiro(Demographics['Q7.1']))"
   ]
  },
  {
   "cell_type": "markdown",
   "id": "d6c5dc53-6f94-4736-9f99-e1dd69d014e8",
   "metadata": {},
   "source": [
    "### Exploratory correlations"
   ]
  },
  {
   "cell_type": "code",
   "execution_count": 294,
   "id": "8c6811ef-0b89-440e-bd23-0a80db98242c",
   "metadata": {},
   "outputs": [
    {
     "name": "stdout",
     "output_type": "stream",
     "text": [
      "Minnapolis vs Q5.1:  SignificanceResult(statistic=0.17995738239796874, pvalue=0.27296991136066434)\n",
      "Chicago vs Q5.1:  SignificanceResult(statistic=0.12226328569734327, pvalue=0.4584020993250498)\n",
      "Chicago vs Q6.1:  SignificanceResult(statistic=0.057006846148856836, pvalue=0.7303159474268215)\n",
      "Minnapolis vs Q6.1:  SignificanceResult(statistic=0.17306276120133388, pvalue=0.29207122083954346)\n",
      "Minnapolis vs Q7.1:  SignificanceResult(statistic=0.13112919426238615, pvalue=0.4262047728389816)\n",
      "Minnapolis vs Q7.1:  SignificanceResult(statistic=0.1945746944265595, pvalue=0.23523961447604574)\n"
     ]
    }
   ],
   "source": [
    "print('Minnapolis vs Q5.1: ', spearmanr(PMinneapolis['CorrrectMoves'],Demographics['Q5.1']))\n",
    "print('Chicago vs Q5.1: ',spearmanr(PChicago['CorrrectMoves'],Demographics['Q5.1']))\n",
    "print('Chicago vs Q6.1: ',spearmanr(PChicago['CorrrectMoves'],Demographics['Q6.1']))\n",
    "print('Minnapolis vs Q6.1: ', spearmanr(PMinneapolis['CorrrectMoves'],Demographics['Q6.1']))\n",
    "print('Minnapolis vs Q7.1: ',spearmanr(CWMinneapolis['Total'],Demographics['Q7.1']))\n",
    "print('Minnapolis vs Q7.1: ', spearmanr(CWChicago['Total'],Demographics['Q7.1']))"
   ]
  },
  {
   "cell_type": "code",
   "execution_count": 295,
   "id": "80a5a851-2b5f-4263-a214-84cc146ecad4",
   "metadata": {},
   "outputs": [],
   "source": [
    "df = pd.DataFrame({\n",
    "    'Subject': Demographics['Q1'],  \n",
    "    'Minneapolis': PMinneapolis['CorrrectMoves'],\n",
    "    'Chicago': PChicago['CorrrectMoves'],\n",
    "    'MusicalTraining': Demographics['Q5.1']  \n",
    "})\n",
    "\n",
    "df['TrainingGroup'] = df['MusicalTraining'].apply(lambda x: 'low' if x <= 3 else 'high')\n",
    "\n",
    "df_long = pd.melt(df, \n",
    "                  id_vars=['Subject', 'TrainingGroup'], \n",
    "                  value_vars=['Minneapolis', 'Chicago'], \n",
    "                  var_name='Condition', \n",
    "                  value_name='CorrectMoves')\n"
   ]
  },
  {
   "cell_type": "code",
   "execution_count": 296,
   "id": "a5796ce6-51f7-40cb-b553-c3a74acc51dd",
   "metadata": {},
   "outputs": [],
   "source": [
    "# Join on participant ID to ensure proper alignment\n",
    "df = pd.DataFrame()\n",
    "df['Subject'] = Demographics['Q1']\n",
    "df['MusicalTraining'] = Demographics['Q5.1']\n",
    "\n",
    "# Merge performance from both conditions\n",
    "df = df.merge(PMinneapolis[['Code', 'CorrrectMoves']], how='left', left_on='Subject', right_on='Code')\n",
    "df = df.rename(columns={'CorrrectMoves': 'Minneapolis'})\n",
    "df = df.drop(columns='Code')\n",
    "\n",
    "df = df.merge(PChicago[['Code', 'CorrrectMoves']], how='left', left_on='Subject', right_on='Code')\n",
    "df = df.rename(columns={'CorrrectMoves': 'Chicago'})\n",
    "df = df.drop(columns='Code')\n",
    "\n",
    "# Drop rows with any missing values\n",
    "df = df.dropna(subset=['Minneapolis', 'Chicago', 'MusicalTraining'])\n",
    "\n",
    "# Binarize training\n",
    "df['TrainingGroup'] = df['MusicalTraining'].apply(lambda x: 'low' if x <= 3 else 'high')\n"
   ]
  },
  {
   "cell_type": "code",
   "execution_count": 297,
   "id": "f9f43d19-8ca5-4974-ad8a-fff9cdefbc63",
   "metadata": {},
   "outputs": [
    {
     "name": "stdout",
     "output_type": "stream",
     "text": [
      "          Source          SS  DF1  DF2          MS         F     p-unc  \\\n",
      "0  TrainingGroup    3.817211    1   37    3.817211  0.026674  0.871155   \n",
      "1      Condition  291.160128    1   37  291.160128  2.771510  0.104403   \n",
      "2    Interaction    5.980848    1   37    5.980848  0.056931  0.812731   \n",
      "\n",
      "        np2  eps  \n",
      "0  0.000720  NaN  \n",
      "1  0.069686  1.0  \n",
      "2  0.001536  NaN  \n"
     ]
    }
   ],
   "source": [
    "df_long = pd.melt(df,\n",
    "                  id_vars=['Subject', 'TrainingGroup'],\n",
    "                  value_vars=['Minneapolis', 'Chicago'],\n",
    "                  var_name='Condition',\n",
    "                  value_name='CorrectMoves')\n",
    "\n",
    "#A mixed‐design ANOVA on CorrectMoves per condition as the within‐subjects factor and the musical training as the between‐subjects factor\n",
    "aov = pg.mixed_anova(dv='CorrectMoves',\n",
    "                     within='Condition',\n",
    "                     between='TrainingGroup',\n",
    "                     subject='Subject',\n",
    "                     data=df_long)\n",
    "\n",
    "print(aov)\n"
   ]
  }
 ],
 "metadata": {
  "kernelspec": {
   "display_name": "Python 3 (ipykernel)",
   "language": "python",
   "name": "python3"
  },
  "language_info": {
   "codemirror_mode": {
    "name": "ipython",
    "version": 3
   },
   "file_extension": ".py",
   "mimetype": "text/x-python",
   "name": "python",
   "nbconvert_exporter": "python",
   "pygments_lexer": "ipython3",
   "version": "3.9.18"
  }
 },
 "nbformat": 4,
 "nbformat_minor": 5
}
